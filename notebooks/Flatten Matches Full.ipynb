{
 "cells": [
  {
   "cell_type": "code",
   "execution_count": null,
   "metadata": {},
   "outputs": [],
   "source": [
    "!pip install flatten_json\n",
    "!pip install flatten-dict\n",
    "# Set notebook code preview\n",
    "%config IPCompleter.greedy=True\n",
    "\n",
    "# Set display width\n",
    "from IPython.core.display import display, HTML\n",
    "display(HTML(\"<style>.container { width:100% !important; }</style>\"))"
   ]
  },
  {
   "cell_type": "code",
   "execution_count": null,
   "metadata": {},
   "outputs": [],
   "source": [
    "from pyspark.sql import SparkSession\n",
    "from pyspark.sql import SQLContext\n",
    "from pyspark.sql import Row\n",
    "from collections import OrderedDict\n",
    "from pyspark.sql.functions import col, avg\n",
    "\n",
    "spark = SparkSession.builder.config('spark.driver.extraClassPath', './lib/postgresql-42.2.5.jar').getOrCreate()\n",
    "url = 'jdbc:postgresql://postgres:5432/lol'\n",
    "properties = {'user': 'lol', 'password': 'lol'}\n",
    "sqlc = SQLContext(spark.sparkContext)\n"
   ]
  },
  {
   "cell_type": "code",
   "execution_count": null,
   "metadata": {},
   "outputs": [],
   "source": [
    "from pyspark.sql import Row\n",
    "from collections import OrderedDict\n",
    "\n",
    "def get_empty_row():\n",
    "    game_stat = {}\n",
    "    game_stat['summoner_name'] = None; game_stat['summoner_id'] = None; game_stat['match.gameDuration'] = None; game_stat['match.gameId'] = None; game_stat['match.gameCreation'] = None; game_stat['match.gameMode'] = None; game_stat['match.gameType'] = None; game_stat['match.seasonId'] = None; game_stat['stats.win'] = None; game_stat['stats.item0'] = None; game_stat['stats.item1'] = None; game_stat['stats.item2'] = None; game_stat['stats.item3'] = None; game_stat['stats.item4'] = None; game_stat['stats.item5'] = None; game_stat['stats.item6'] = None; game_stat['stats.kills'] = None; game_stat['stats.perk0'] = None; game_stat['stats.perk1'] = None; game_stat['stats.perk2'] = None; game_stat['stats.perk3'] = None; game_stat['stats.perk4'] = None; game_stat['stats.perk5'] = None; game_stat['stats.deaths'] = None; game_stat['stats.assists'] = None; game_stat['stats.goldSpent'] = None; game_stat['stats.perk0Var1'] = None; game_stat['stats.perk0Var2'] = None; game_stat['stats.perk0Var3'] = None; game_stat['stats.perk1Var1'] = None; game_stat['stats.perk1Var2'] = None; game_stat['stats.perk1Var3'] = None; game_stat['stats.perk2Var1'] = None; game_stat['stats.perk2Var2'] = None; game_stat['stats.perk2Var3'] = None; game_stat['stats.perk3Var1'] = None; game_stat['stats.perk3Var2'] = None; game_stat['stats.perk3Var3'] = None; game_stat['stats.perk4Var1'] = None; game_stat['stats.perk4Var2'] = None; game_stat['stats.perk4Var3'] = None; game_stat['stats.perk5Var1'] = None; game_stat['stats.perk5Var2'] = None; game_stat['stats.perk5Var3'] = None; game_stat['stats.totalHeal'] = None; game_stat['stats.champLevel'] = None; game_stat['stats.goldEarned'] = None; game_stat['stats.pentaKills'] = None; game_stat['stats.doubleKills'] = None; game_stat['stats.quadraKills'] = None; game_stat['stats.tripleKills'] = None; game_stat['stats.turretKills'] = None; game_stat['stats.unrealKills'] = None; game_stat['stats.visionScore'] = None; game_stat['stats.wardsKilled'] = None; game_stat['stats.wardsPlaced'] = None; game_stat['stats.perkSubStyle'] = None; game_stat['stats.playerScore0'] = None; game_stat['stats.playerScore1'] = None; game_stat['stats.playerScore2'] = None; game_stat['stats.playerScore3'] = None; game_stat['stats.playerScore4'] = None; game_stat['stats.playerScore5'] = None; game_stat['stats.playerScore6'] = None; game_stat['stats.playerScore7'] = None; game_stat['stats.playerScore8'] = None; game_stat['stats.playerScore9'] = None; game_stat['stats.killingSprees'] = None; game_stat['stats.participantId'] = None; game_stat['stats.firstBloodKill'] = None; game_stat['stats.firstTowerKill'] = None; game_stat['stats.inhibitorKills'] = None; game_stat['stats.totalScoreRank'] = None; game_stat['stats.timeCCingOthers'] = None; game_stat['stats.trueDamageDealt'] = None; game_stat['stats.trueDamageTaken'] = None; game_stat['stats.firstBloodAssist'] = None; game_stat['stats.firstTowerAssist'] = None; game_stat['stats.largestMultiKill'] = None; game_stat['stats.magicDamageDealt'] = None; game_stat['stats.perkPrimaryStyle'] = None; game_stat['stats.totalDamageDealt'] = None; game_stat['stats.totalDamageTaken'] = None; game_stat['stats.totalPlayerScore'] = None; game_stat['stats.totalUnitsHealed'] = None; game_stat['stats.combatPlayerScore'] = None; game_stat['stats.firstInhibitorKill'] = None; game_stat['stats.magicalDamageTaken'] = None; game_stat['stats.totalMinionsKilled'] = None; game_stat['stats.damageSelfMitigated'] = None; game_stat['stats.largestKillingSpree'] = None; game_stat['stats.physicalDamageDealt'] = None; game_stat['stats.physicalDamageTaken'] = None; game_stat['stats.damageDealtToTurrets'] = None; game_stat['stats.firstInhibitorAssist'] = None; game_stat['stats.neutralMinionsKilled'] = None; game_stat['stats.objectivePlayerScore'] = None; game_stat['stats.largestCriticalStrike'] = None; game_stat['stats.longestTimeSpentLiving'] = None; game_stat['stats.sightWardsBoughtInGame'] = None; game_stat['stats.damageDealtToObjectives'] = None; game_stat['stats.visionWardsBoughtInGame'] = None; game_stat['stats.totalTimeCrowdControlDealt'] = None; game_stat['stats.trueDamageDealtToChampions'] = None; game_stat['stats.magicDamageDealtToChampions'] = None; game_stat['stats.totalDamageDealtToChampions'] = None; game_stat['stats.neutralMinionsKilledTeamJungle'] = None; game_stat['stats.physicalDamageDealtToChampions'] = None; game_stat['stats.neutralMinionsKilledEnemyJungle'] = None; game_stat['teamId'] = None; game_stat['spell1Id'] = None; game_stat['spell2Id'] = None; game_stat['timeline.lane'] = None; game_stat['timeline.role'] = None; game_stat['timeline.participantId'] = None; game_stat['timeline.xpPerMinDeltas.0_10'] = 0.00; game_stat['timeline.xpPerMinDeltas.10_20'] = 0.00; game_stat['timeline.xpPerMinDeltas.20_30'] = 0.00; game_stat['timeline.xpPerMinDeltas.30_end'] = 0.00; game_stat['timeline.goldPerMinDeltas.0_10'] = 0.00; game_stat['timeline.goldPerMinDeltas.10_20'] = 0.00; game_stat['timeline.goldPerMinDeltas.20_30'] = 0.00; game_stat['timeline.goldPerMinDeltas.30_end'] = 0.00; game_stat['timeline.creepsPerMinDeltas.0_10'] = 0.00; game_stat['timeline.creepsPerMinDeltas.10_20'] = 0.00; game_stat['timeline.creepsPerMinDeltas.20_30'] = 0.00; game_stat['timeline.creepsPerMinDeltas.30_end'] = 0.00; game_stat['timeline.csDiffPerMinDeltas.0_10'] = 0.00; game_stat['timeline.csDiffPerMinDeltas.10_20'] = 0.00; game_stat['timeline.csDiffPerMinDeltas.20_30'] = 0.00; game_stat['timeline.csDiffPerMinDeltas.30_end'] = 0.00; game_stat['timeline.xpDiffPerMinDeltas.0_10'] = 0.00; game_stat['timeline.xpDiffPerMinDeltas.10_20'] = 0.00; game_stat['timeline.xpDiffPerMinDeltas.20_30'] = 0.00; game_stat['timeline.xpDiffPerMinDeltas.30_end'] = 0.00; game_stat['timeline.damageTakenPerMinDeltas.0_10'] = 0.00; game_stat['timeline.damageTakenPerMinDeltas.10_20'] = 0.00; game_stat['timeline.damageTakenPerMinDeltas.20_30'] = 0.00; game_stat['timeline.damageTakenPerMinDeltas.30_end'] = 0.00; game_stat['timeline.damageTakenDiffPerMinDeltas.0_10'] = 0.00; game_stat['timeline.damageTakenDiffPerMinDeltas.10_20'] = 0.00; game_stat['timeline.damageTakenDiffPerMinDeltas.20_30'] = 0.00; game_stat['timeline.damageTakenDiffPerMinDeltas.30_end'] = 0.00; game_stat['championId'] = None; game_stat['participantId'] = None; game_stat['highestAchievedSeasonTier'] = None; game_stat['match.win'] = None\n",
    "    return game_stat\n",
    "\n",
    "def flatten_dict_info(prefix, old_dict, new_dict):\n",
    "    for k,v in old_dict.items():\n",
    "        if isinstance(v, dict):\n",
    "            if prefix == \"\":\n",
    "                flatten_dict_info(\"\" + k, v, new_dict)\n",
    "            else:\n",
    "                flatten_dict_info(prefix + \".\" + k, v, new_dict)\n",
    "        else:\n",
    "            k = k.replace(\" \", \"_\")\n",
    "            k = k.replace(\"-\", \"_\")\n",
    "            if v is None:\n",
    "                v = \"null\" \n",
    "            if prefix == \"\":\n",
    "                new_dict[k] = v\n",
    "            else:\n",
    "                new_dict[prefix + \".\" + k] = v\n",
    "                \n",
    "def table_exist(name):\n",
    "    df = spark.read.jdbc(url=url, table=\"(select exists (select 1 from information_schema.tables where table_name = '%s')) a\" % name, properties=properties)\n",
    "    return df.first().exists\n",
    "\n",
    "def convert_to_row(d: dict) -> Row:\n",
    "    return Row(**OrderedDict(sorted(d.items())))"
   ]
  },
  {
   "cell_type": "code",
   "execution_count": null,
   "metadata": {},
   "outputs": [],
   "source": [
    "import json\n",
    "            \n",
    "list = []\n",
    "\n",
    "\n",
    "get_all_matches_query = f\"(select s.id summoner_id, s.name summoner_name, m.info from summoner s join matches map on s.id = map.summoner_id join match m on map.match_id = m.id) a\"\n",
    "matches_df = spark.read.jdbc(url=url, table=get_all_matches_query, properties=properties)\n",
    "\n",
    "print(\"Found %s matches\" %matches_df.count())\n",
    "\n",
    "for match in matches_df.collect():\n",
    "    game_stat = {}\n",
    "    game_stat['summoner_name'] = match.summoner_name\n",
    "    game_stat['summoner_id'] = match.summoner_id\n",
    "\n",
    "    info = json.loads(match.info)\n",
    "\n",
    "    game_stat['match.gameDuration'] = info['gameDuration']/60\n",
    "    game_stat['match.gameId'] = info['gameId']\n",
    "    game_stat['match.gameCreation'] = info['gameCreation']\n",
    "    game_stat['match.gameMode'] = info['gameMode']\n",
    "    game_stat['match.gameType'] = info['gameType']\n",
    "    game_stat['match.seasonId'] = info['seasonId']\n",
    "\n",
    "    participant_id = 0\n",
    "\n",
    "    for participant in info['participantIdentities']:\n",
    "        if participant['player']['summonerName'] == match.summoner_name:\n",
    "            participant_id = participant['participantId']\n",
    "\n",
    "    for p in info['participants']: \n",
    "        if participant_id == p['participantId']:\n",
    "            n = p                \n",
    "            flatten_dict_info(\"\", n, game_stat)\n",
    "            for team in info['teams']:\n",
    "                if team['teamId'] == game_stat['teamId']:\n",
    "                    game_stat['match.win'] = team['win']\n",
    "            # has everything \n",
    "            row = get_empty_row()\n",
    "            game_stat_keys = game_stat.keys()\n",
    "            for key, value in row.items():\n",
    "                if key in game_stat_keys:\n",
    "                    row[key] = game_stat[key]\n",
    "            list.append(row)\n",
    "                \n",
    "print(\"Processed %s matches\" %len(list))"
   ]
  },
  {
   "cell_type": "code",
   "execution_count": null,
   "metadata": {},
   "outputs": [],
   "source": [
    "\n",
    "my_df = spark.sparkContext.parallelize(list).map(convert_to_row).toDF()\n",
    "table_name = 'summoner_match_base_stats'\n",
    "if table_exist(table_name):\n",
    "    my_df.write.mode(\"append\").jdbc(url=url, table=table_name, properties=properties)\n",
    "else:\n",
    "    my_df.write.jdbc(url=url, table=table_name, properties=properties)"
   ]
  },
  {
   "cell_type": "code",
   "execution_count": null,
   "metadata": {},
   "outputs": [],
   "source": []
  }
 ],
 "metadata": {
  "kernelspec": {
   "display_name": "Python 3",
   "language": "python",
   "name": "python3"
  },
  "language_info": {
   "codemirror_mode": {
    "name": "ipython",
    "version": 3
   },
   "file_extension": ".py",
   "mimetype": "text/x-python",
   "name": "python",
   "nbconvert_exporter": "python",
   "pygments_lexer": "ipython3",
   "version": "3.7.3"
  }
 },
 "nbformat": 4,
 "nbformat_minor": 2
}
